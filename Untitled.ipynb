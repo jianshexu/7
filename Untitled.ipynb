{
 "cells": [
  {
   "cell_type": "code",
   "execution_count": 4,
   "id": "1ba566a4",
   "metadata": {},
   "outputs": [
    {
     "name": "stdout",
     "output_type": "stream",
     "text": [
      "Overwriting predictor_with_shap.py\n"
     ]
    }
   ],
   "source": [
    "%%writefile predictor_with_shap.py\n",
    "import streamlit as st\n",
    "import joblib\n",
    "import numpy as np\n",
    "import pandas as pd\n",
    "import shap\n",
    "import matplotlib.pyplot as plt\n",
    "\n",
    "# 加载预训练的模型\n",
    "model = joblib.load('XGBoost.pkl')  # 请将 'your_model.pkl' 替换为你的模型文件名\n",
    "\n",
    "# 定义分类变量的选项\n",
    "cons_options = {\n",
    "    0: '意识没有改变 (0)',  # No change in consciousness\n",
    "    1: '意识改变 (1)'       # Change in consciousness\n",
    "}\n",
    "\n",
    "mv_options = {\n",
    "    0: '未应用 (0)',  # Not applied\n",
    "    1: '应用 (1)'     # Applied\n",
    "}\n",
    "\n",
    "crrt_options = {\n",
    "    0: '未应用 (0)',  # Not applied\n",
    "    1: '应用 (1)'     # Applied\n",
    "}\n",
    "\n",
    "# 定义特征名称\n",
    "feature_names = ['CONS', 'LDH', 'MV', 'AST', 'CRRT', 'U', 'L']\n",
    "\n",
    "# Streamlit 用户界面\n",
    "st.title(\"布尼亚预后\")\n",
    "\n",
    "# 获取用户输入\n",
    "cons = st.selectbox(\"意识状态 (CONS):\", options=list(cons_options.keys()), format_func=lambda x: cons_options[x])\n",
    "ldh = st.number_input(\"乳酸脱氢酶 (LDH):\", min_value=0, max_value=5000, value=200)\n",
    "mv = st.selectbox(\"机械通气 (MV):\", options=list(mv_options.keys()), format_func=lambda x: mv_options[x])\n",
    "ast = st.number_input(\"天冬氨酸转氨酶 (AST):\", min_value=0, max_value=5000, value=30)\n",
    "crrt = st.selectbox(\"持续性肾脏替代治疗 (CRRT):\", options=list(crrt_options.keys()), format_func=lambda x: crrt_options[x])\n",
    "u = st.number_input(\"尿素 (U):\", min_value=0.0, max_value=200.0, value=5.0)\n",
    "l = st.number_input(\"淋巴细胞百分比 (L):\", min_value=0.0, max_value=100.0, value=20.0)\n",
    "\n",
    "# 将用户输入的变量转换为模型输入格式\n",
    "feature_values = [cons, ldh, mv, ast, crrt, u, l]\n",
    "features = np.array([feature_values])\n",
    "\n",
    "# 当用户点击“预测”按钮时执行预测\n",
    "if st.button(\"预测\"):\n",
    "    # 使用模型进行预测\n",
    "    predicted_class = model.predict(features)[0]\n",
    "    \n",
    "    # 显示预测结果\n",
    "    st.write(f\"**预测结果:** {predicted_class}\")\n",
    "\n",
    "    # 计算 SHAP 值并显示 force plot\n",
    "    explainer = shap.TreeExplainer(model)\n",
    "    shap_values = explainer.shap_values(pd.DataFrame([feature_values], columns=feature_names))\n",
    "    shap.force_plot(explainer.expected_value, shap_values[0], pd.DataFrame([feature_values], columns=feature_names), matplotlib=True)\n",
    "    plt.savefig(\"shap_force_plot.png\", bbox_inches='tight', dpi=1200)\n",
    "    st.image(\"shap_force_plot.png\")\n"
   ]
  },
  {
   "cell_type": "code",
   "execution_count": 1,
   "id": "4a25baf6",
   "metadata": {
    "scrolled": false
   },
   "outputs": [
    {
     "name": "stdout",
     "output_type": "stream",
     "text": [
      "Note: you may need to restart the kernel to use updated packages.\n"
     ]
    }
   ],
   "source": [
    "pip freeze > requirements2.txt\n"
   ]
  },
  {
   "cell_type": "code",
   "execution_count": 12,
   "id": "7aebc22c",
   "metadata": {},
   "outputs": [
    {
     "name": "stdout",
     "output_type": "stream",
     "text": [
      "Defaulting to user installation because normal site-packages is not writeable\n",
      "Looking in indexes: https://pypi.tuna.tsinghua.edu.cn/simple\n",
      "Requirement already satisfied: joblib in d:\\py\\anaconda3\\lib\\site-packages (1.1.0)\n",
      "Note: you may need to restart the kernel to use updated packages.\n"
     ]
    }
   ],
   "source": [
    "pip install joblib\n"
   ]
  },
  {
   "cell_type": "code",
   "execution_count": null,
   "id": "25674d4b",
   "metadata": {},
   "outputs": [],
   "source": []
  }
 ],
 "metadata": {
  "kernelspec": {
   "display_name": "Python 3 (ipykernel)",
   "language": "python",
   "name": "python3"
  },
  "language_info": {
   "codemirror_mode": {
    "name": "ipython",
    "version": 3
   },
   "file_extension": ".py",
   "mimetype": "text/x-python",
   "name": "python",
   "nbconvert_exporter": "python",
   "pygments_lexer": "ipython3",
   "version": "3.9.13"
  }
 },
 "nbformat": 4,
 "nbformat_minor": 5
}
